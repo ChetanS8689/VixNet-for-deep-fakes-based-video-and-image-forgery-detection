{
  "cells": [
    {
      "cell_type": "code",
      "execution_count": null,
      "metadata": {
        "colab": {
          "base_uri": "https://localhost:8080/"
        },
        "id": "FHvzqlZum9Or",
        "outputId": "c8b68d5f-91d1-4bdb-c06b-d2a31731bc04"
      },
      "outputs": [
        {
          "name": "stdout",
          "output_type": "stream",
          "text": [
            "Mounted at /content/drive\n"
          ]
        }
      ],
      "source": [
        "from google.colab import drive\n",
        "drive.mount('/content/drive')"
      ]
    },
    {
      "cell_type": "code",
      "execution_count": null,
      "metadata": {
        "colab": {
          "base_uri": "https://localhost:8080/"
        },
        "id": "wvXZpQ_LftBy",
        "outputId": "9c248001-3fbc-48d4-e0aa-dac4294e94c5"
      },
      "outputs": [],
      "source": [
        "#!7z x /content/drive/MyDrive/Datasets/Project.zip -o/content/drive/MyDrive/Datasets/\n",
        "!pip install patchify"
      ]
    },
    {
      "cell_type": "code",
      "execution_count": null,
      "metadata": {
        "id": "DY_eQw66DsUh"
      },
      "outputs": [],
      "source": [
        "# Common Imports\n",
        "\n",
        "import torch\n",
        "import torchvision\n",
        "import torchvision.transforms as transforms\n",
        "from torchvision import models\n",
        "import torch.nn as nn\n",
        "import torch.optim as optim\n",
        "import matplotlib\n",
        "from matplotlib import pyplot as plt\n",
        "from tqdm.auto import tqdm\n",
        "import time\n",
        "from torchvision import datasets\n",
        "import os\n",
        "from patchify import patchify, unpatchify\n",
        "matplotlib.style.use('ggplot')"
      ]
    },
    {
      "cell_type": "code",
      "execution_count": null,
      "metadata": {
        "colab": {
          "base_uri": "https://localhost:8080/"
        },
        "id": "KfeNQjm9hala",
        "outputId": "da7e550e-d721-4924-e36d-0a6097b69e2b"
      },
      "outputs": [
        {
          "name": "stdout",
          "output_type": "stream",
          "text": [
            "Using cpu device\n"
          ]
        }
      ],
      "source": [
        "# Runtime Cores\n",
        "device = (\n",
        "    \"cuda\"\n",
        "    if torch.cuda.is_available()\n",
        "    else \"mps\"\n",
        "    if torch.backends.mps.is_available()\n",
        "    else \"cpu\"\n",
        ")\n",
        "print(f\"Using {device} device\")"
      ]
    },
    {
      "cell_type": "code",
      "execution_count": null,
      "metadata": {
        "id": "eZ1gkof7FFiE"
      },
      "outputs": [],
      "source": [
        "transform = transforms.Compose([transforms.Resize(299),\n",
        "                                transforms.CenterCrop(224),\n",
        "                                transforms.ToTensor(),\n",
        "                                transforms.Normalize([0.485,0.456,0.405], [0.229, 0.224, 0.225])])"
      ]
    },
    {
      "cell_type": "code",
      "execution_count": null,
      "metadata": {
        "colab": {
          "base_uri": "https://localhost:8080/"
        },
        "id": "15SZlG3DFMUC",
        "outputId": "9e8d0cee-062b-4917-d44d-c6cb536c8239"
      },
      "outputs": [
        {
          "name": "stdout",
          "output_type": "stream",
          "text": [
            "202\n",
            "202\n",
            "['fake', 'original']\n"
          ]
        }
      ],
      "source": [
        "batch_size = 128\n",
        "data_dir = '/content/drive/MyDrive/Datasets/data_project'\n",
        "train_data = datasets.ImageFolder(os.path.join(data_dir, 'train1'), transform)\n",
        "val_data = datasets.ImageFolder(os.path.join(data_dir, 'test1'), transform)\n",
        "\n",
        "trainloader = torch.utils.data.DataLoader(train_data, batch_size=4,\n",
        "                                             shuffle=True, num_workers=4)\n",
        "validloader = torch.utils.data.DataLoader(val_data, batch_size=4,\n",
        "                                             shuffle=True, num_workers=4)\n",
        "train_data_size = len(train_data)\n",
        "\n",
        "valid_data_size = len(val_data)\n",
        "\n",
        "class_names = train_data.classes\n",
        "print(train_data_size)\n",
        "print(valid_data_size)\n",
        "print(class_names)"
      ]
    },
    {
      "cell_type": "code",
      "execution_count": null,
      "metadata": {
        "id": "rY-yOjZxm5GL"
      },
      "outputs": [],
      "source": [
        "class SeparableConv2d(nn.Module):\n",
        "  def __init__(self, in_channels, out_channels, kernel_size, bias=False, stride=1):\n",
        "    super(SeparableConv2d, self).__init__()\n",
        "    self.depthwise = nn.Conv2d(in_channels, in_channels, kernel_size=kernel_size,\n",
        "                               groups=in_channels, bias=bias, padding=1, stride=stride)\n",
        "    self.pointwise = nn.Conv2d(in_channels, out_channels,\n",
        "                               kernel_size=1, bias=bias, stride=stride)\n",
        "\n",
        "  def forward(self, x):\n",
        "    out = self.depthwise(x)\n",
        "    out = self.pointwise(out)\n",
        "    return out"
      ]
    },
    {
      "cell_type": "code",
      "execution_count": null,
      "metadata": {
        "id": "A9xaxGYegmRG"
      },
      "outputs": [],
      "source": [
        "class Xception(nn.Module):\n",
        "  def __init__(self):\n",
        "        super(Xception, self).__init__()\n",
        "\n",
        "        # Input block\n",
        "        self.input_block = nn.Sequential(\n",
        "            nn.Conv2d(3, 32, 3, stride=2),\n",
        "            nn.ReLU(inplace=True),\n",
        "\n",
        "            nn.Conv2d(32, 64, 3),\n",
        "            nn.ReLU(inplace=True)\n",
        "        )\n",
        "\n",
        "        # Middle blocks\n",
        "        self.block1_conv = nn.Sequential(\n",
        "            nn.Conv2d(64, 64, 1, stride=2)\n",
        "        )\n",
        "\n",
        "        self.block1 = nn.Sequential(\n",
        "            # Block 1\n",
        "            SeparableConv2d(64, 128, 3),\n",
        "            nn.ReLU(inplace=True),\n",
        "            SeparableConv2d(128, 128, 3),\n",
        "            nn.MaxPool2d(3, stride=2),\n",
        "        )\n",
        "\n",
        "        self.block2_conv = nn.Sequential(\n",
        "            nn.Conv2d(128, 128, 1, stride=2)\n",
        "        )\n",
        "\n",
        "        self.block2 = nn.Sequential(\n",
        "            # Block 2\n",
        "            nn.ReLU(inplace=True),\n",
        "            SeparableConv2d(128, 256, 3, stride=2),\n",
        "            nn.ReLU(inplace=True),\n",
        "            SeparableConv2d(256, 256, 3),\n",
        "            nn.MaxPool2d(3, stride=2),\n",
        "        )\n",
        "\n",
        "        self.block3_conv = nn.Sequential(\n",
        "            nn.Conv2d(256, 256, 1, stride=2)\n",
        "        )\n",
        "\n",
        "        self.block3 = nn.Sequential(\n",
        "            # Block 3\n",
        "            nn.ReLU(inplace=True),\n",
        "            SeparableConv2d(256, 728, 3, stride=2),\n",
        "            nn.ReLU(inplace=True),\n",
        "            SeparableConv2d(728, 728, 3),\n",
        "            nn.MaxPool2d(3, stride=2),\n",
        "        )\n",
        "\n",
        "        self.block4 = nn.Sequential(\n",
        "            # Block 4\n",
        "            nn.ReLU(inplace=True),\n",
        "            SeparableConv2d(728, 728, 3),\n",
        "            nn.ReLU(inplace=True),\n",
        "            SeparableConv2d(728, 728, 3),\n",
        "            nn.ReLU(inplace=True),\n",
        "            SeparableConv2d(728, 728, 3),\n",
        "        )\n",
        "\n",
        "        self.block5_conv = nn.Sequential(\n",
        "            nn.Conv2d(728, 728, 1, stride=2)\n",
        "        )\n",
        "\n",
        "        self.block5 = nn.Sequential(\n",
        "            nn.ReLU(inplace=True),\n",
        "            SeparableConv2d(728, 728, 3),\n",
        "            nn.ReLU(inplace=True),\n",
        "            SeparableConv2d(728, 1024, 3),\n",
        "            nn.MaxPool2d(3, stride=2)\n",
        "        )\n",
        "\n",
        "        self.output_block = nn.Sequential(\n",
        "            SeparableConv2d(1024, 1536, 3),\n",
        "            nn.ReLU(inplace=True),\n",
        "            SeparableConv2d(1536, 2048, 3),\n",
        "            nn.ReLU(inplace=True),\n",
        "            nn.AdaptiveAvgPool2d(1)\n",
        "        )\n",
        "\n",
        "  def forward(self, x):\n",
        "\n",
        "        output = self.input_block(x)\n",
        "\n",
        "        output = self.block1(output)\n",
        "        conv_output = self.block1_conv(output)\n",
        "        output = torch.cat([output, conv_output], dim=1)\n",
        "\n",
        "        output = self.block2(output)\n",
        "        conv_output = self.block2_conv(output)\n",
        "        output = torch.cat([output, conv_output], dim=1)\n",
        "\n",
        "        output = self.block3(output)\n",
        "        conv_output = self.block3_conv(output)\n",
        "        output = torch.cat([output, conv_output], dim=1)\n",
        "\n",
        "        output1 = self.block4(output)\n",
        "        output = torch.cat([output, output1], dim=1)\n",
        "\n",
        "        output = self.block5(output)\n",
        "        conv_output = self.block5_conv(output)\n",
        "        output = torch.cat([output, conv_output], dim=1)\n",
        "\n",
        "        output = self.output_block(output)\n",
        "\n",
        "        print()\n",
        "\n",
        "        return output"
      ]
    },
    {
      "cell_type": "code",
      "execution_count": null,
      "metadata": {
        "id": "cLJklY77pn69"
      },
      "outputs": [],
      "source": [
        "class PatchModule(nn.Module):\n",
        "  def __init__(self):\n",
        "    super(PatchModule, self).__init__()\n",
        "\n",
        "    self.conv = nn.Sequential(\n",
        "            nn.Conv2d(3, 3, 3, stride=1)\n",
        "    )\n",
        "\n",
        "  def forward(self, x):\n",
        "\n",
        "    patches = patchify(x, (4, 4, 3), step=4)\n",
        "    patches.shape"
      ]
    },
    {
      "cell_type": "code",
      "execution_count": null,
      "metadata": {
        "id": "rzUJUFGKkT16"
      },
      "outputs": [],
      "source": [
        "class ViXNet(nn.Module):\n",
        "    def _init_(self):\n",
        "        super(ViXNet, self)._init_()\n",
        "\n",
        "        # Code For VIT B 16 Transformer Encoder\n",
        "        self.vit_encoder = vit_encoder()\n",
        "\n",
        "        # Xception\n",
        "        self.xception = Xception()\n",
        "\n",
        "        # Fully Connected Layer\n",
        "        self.fc1 = nn.Linear(512, 256)\n",
        "        self.fc2= nn.Linear(256, 128)\n",
        "        self.fc3 = nn.Linear(128, 2)\n",
        "\n",
        "    def forward(self, x):\n",
        "        # Pass the input through the ViT stream\n",
        "        vit_output = self.vit_encoder(x)\n",
        "\n",
        "        # Pass the input through the Xception stream\n",
        "        xception_output = self.xception(x)\n",
        "\n",
        "        # Concatenate the outputs of the two streams\n",
        "        output = torch.cat([vit_output, xception_output], dim=1)\n",
        "\n",
        "        # Pass the concatenated output through the fully connected layer\n",
        "        output = self.fc(output)\n",
        "\n",
        "        # Return the output\n",
        "        return output\n",
        "\n",
        "\n",
        "# Create an instance of the ViXNet model\n",
        "model = ViXNet()\n",
        "\n",
        "# Load the model with pre-trained weights\n",
        "# model.load_state_dict(torch.load('vixnet.pt'))"
      ]
    },
    {
      "cell_type": "code",
      "execution_count": null,
      "metadata": {
        "id": "cDJERcgLl8UI"
      },
      "outputs": [],
      "source": [
        "model = Xception().to(device)"
      ]
    },
    {
      "cell_type": "code",
      "execution_count": null,
      "metadata": {
        "id": "UrVMHKQx0Kzd"
      },
      "outputs": [],
      "source": [
        "loss_fn = nn.CrossEntropyLoss()\n",
        "optimizer = optim.Adam(model.parameters(), lr=0.001)"
      ]
    },
    {
      "cell_type": "code",
      "execution_count": null,
      "metadata": {
        "id": "pcdA17TJWLw1"
      },
      "outputs": [],
      "source": [
        "# training function\n",
        "def train(model, trainloader, optimizer, loss_fn):\n",
        "    model.train()\n",
        "    print('Training')\n",
        "    train_running_loss = 0.0\n",
        "    train_running_correct = 0\n",
        "    counter = 0\n",
        "    for i, data in tqdm(enumerate(trainloader),\n",
        "                        total=len(trainloader)\n",
        "                        # total=100\n",
        "                        ):\n",
        "        counter += 1\n",
        "        image, labels = data\n",
        "        image = image.to(device)\n",
        "        labels = labels.to(device)\n",
        "        optimizer.zero_grad()\n",
        "        # forward pass\n",
        "        outputs = model(image)\n",
        "        # calculate the loss\n",
        "        loss = loss_fn(outputs, labels)\n",
        "        train_running_loss += loss.item()\n",
        "        # calculate the accuracy\n",
        "        _, preds = torch.max(outputs.data, 1)\n",
        "        train_running_correct += (preds == labels).sum().item()\n",
        "        # backpropagation\n",
        "        loss.backward()\n",
        "        # update the optimizer parameters\n",
        "        optimizer.step()\n",
        "\n",
        "    # loss and accuracy for the complete epoch\n",
        "    epoch_loss = train_running_loss / counter\n",
        "    epoch_acc = 100. * (train_running_correct / len(trainloader.dataset))\n",
        "    return epoch_loss, epoch_acc"
      ]
    },
    {
      "cell_type": "code",
      "execution_count": null,
      "metadata": {
        "id": "MuuOvnxaWVv1"
      },
      "outputs": [],
      "source": [
        "# validation function\n",
        "def validate(model, testloader, loss_fn):\n",
        "    model.eval()\n",
        "    print('Validation')\n",
        "    valid_running_loss = 0.0\n",
        "    valid_running_correct = 0\n",
        "    counter = 0\n",
        "    with torch.no_grad():\n",
        "        for i, data in tqdm(enumerate(testloader), total=len(testloader)):\n",
        "            counter += 1\n",
        "            image, labels = data\n",
        "            image = image.to(device)\n",
        "            labels = labels.to(device)\n",
        "            # forward pass\n",
        "            outputs = model(image)\n",
        "            # calculate the loss\n",
        "            loss = loss_fn(outputs, labels)\n",
        "            valid_running_loss += loss.item()\n",
        "            # calculate the accuracy\n",
        "            _, preds = torch.max(outputs.data, 1)\n",
        "            valid_running_correct += (preds == labels).sum().item()\n",
        "\n",
        "    # loss and accuracy for the complete epoch\n",
        "    epoch_loss = valid_running_loss / counter\n",
        "    epoch_acc = 100. * (valid_running_correct / len(testloader.dataset))\n",
        "    return epoch_loss, epoch_acc"
      ]
    },
    {
      "cell_type": "code",
      "execution_count": null,
      "metadata": {
        "colab": {
          "base_uri": "https://localhost:8080/",
          "height": 457,
          "referenced_widgets": [
            "5576fdb9294449fbbf8421cfca6ca90a",
            "533498a03744451caebc052a972edfe7",
            "22ecdde593b9472583c057e30084e1d2",
            "ad122faa5ddc4a6082c72b663c70ffcf",
            "dceb5ede440f47cab37d02411b9f0c0d",
            "9793cc2efa7547bb88555f9a7a110ce2",
            "f5941b41629a4fa4ae644987aaabe361",
            "e4b03ea4f71446ebbd136b70be664e6c",
            "0802b8c0675b42aa8fb3060202210c06",
            "2008d62d5f2945f8bb8701d2583fd4b7",
            "f901d0f8e5a8430c8bce9829cd810c60"
          ]
        },
        "id": "YwG20McIWu1y",
        "outputId": "a91f5dcf-8c34-49ff-e3ae-f46ec8a70831"
      },
      "outputs": [],
      "source": [
        "# lists to keep track of losses and accuracies\n",
        "train_loss, valid_loss = [], []\n",
        "train_acc, valid_acc = [], []\n",
        "epochs = 1\n",
        "# start the training\n",
        "since = time.time()\n",
        "for epoch in range(epochs):\n",
        "    print(f\"[INFO]: Epoch {epoch+1} of {epochs}\")\n",
        "    train_epoch_loss, train_epoch_acc = train(model, trainloader,\n",
        "                                              optimizer, loss_fn)\n",
        "    valid_epoch_loss, valid_epoch_acc = validate(model, validloader,\n",
        "                                                 loss_fn)\n",
        "    train_loss.append(train_epoch_loss)\n",
        "    valid_loss.append(valid_epoch_loss)\n",
        "    train_acc.append(train_epoch_acc)\n",
        "    valid_acc.append(valid_epoch_acc)\n",
        "    print(f\"Training loss: {train_epoch_loss:.3f}, training acc: {train_epoch_acc:.3f}\")\n",
        "    print(f\"Validation loss: {valid_epoch_loss:.3f}, validation acc: {valid_epoch_acc:.3f}\")\n",
        "    print('-'*50)\n",
        "time_elapsed = time.time() - since\n",
        "print(f'Training complete in {time_elapsed // 60:.0f}m {time_elapsed % 60:.0f}s')"
      ]
    },
    {
      "cell_type": "code",
      "execution_count": null,
      "metadata": {
        "colab": {
          "base_uri": "https://localhost:8080/",
          "height": 1000
        },
        "id": "xZzPDw4GXBzg",
        "outputId": "bbeb3737-ed8e-4184-9d90-54ed11cd25de"
      },
      "outputs": [],
      "source": [
        "# accuracy plots\n",
        "plt.figure(figsize=(7, 7))\n",
        "plt.plot(\n",
        "    train_acc, color='green', linestyle='-',\n",
        "    label='train accuracy'\n",
        ")\n",
        "plt.plot(\n",
        "    valid_acc, color='blue', linestyle='-',\n",
        "    label='validataion accuracy'\n",
        ")\n",
        "plt.xlabel('Epochs')\n",
        "plt.ylabel('Accuracy')\n",
        "plt.legend()\n",
        "plt.savefig('/content/drive/MyDrive/accuracytl.png')\n",
        "plt.show()\n",
        "# loss plots\n",
        "plt.figure(figsize=(5, 5))\n",
        "plt.plot(\n",
        "    train_loss, color='orange', linestyle='-',\n",
        "    label='train loss'\n",
        ")\n",
        "plt.plot(\n",
        "    valid_loss, color='red', linestyle='-',\n",
        "    label='validataion loss'\n",
        ")\n",
        "plt.xlabel('Epochs')\n",
        "plt.ylabel('Loss')\n",
        "plt.legend()\n",
        "plt.savefig('/content/drive/MyDrive/losstl.png')\n",
        "plt.show()\n",
        "# save the final model\n",
        "save_path = 'model_res.pth'\n",
        "torch.save(model.state_dict(), save_path)\n",
        "print('MODEL SAVED...')"
      ]
    },
    {
      "cell_type": "code",
      "execution_count": null,
      "metadata": {
        "id": "aGdbMAqlftoD"
      },
      "outputs": [],
      "source": []
    }
  ],
  "metadata": {
    "accelerator": "GPU",
    "colab": {
      "gpuType": "T4",
      "provenance": []
    },
    "kernelspec": {
      "display_name": "Python 3",
      "name": "python3"
    },
    "language_info": {
      "name": "python"
    },
    "widgets": {
      "application/vnd.jupyter.widget-state+json": {
        "0802b8c0675b42aa8fb3060202210c06": {
          "model_module": "@jupyter-widgets/controls",
          "model_module_version": "1.5.0",
          "model_name": "ProgressStyleModel",
          "state": {
            "_model_module": "@jupyter-widgets/controls",
            "_model_module_version": "1.5.0",
            "_model_name": "ProgressStyleModel",
            "_view_count": null,
            "_view_module": "@jupyter-widgets/base",
            "_view_module_version": "1.2.0",
            "_view_name": "StyleView",
            "bar_color": null,
            "description_width": ""
          }
        },
        "2008d62d5f2945f8bb8701d2583fd4b7": {
          "model_module": "@jupyter-widgets/base",
          "model_module_version": "1.2.0",
          "model_name": "LayoutModel",
          "state": {
            "_model_module": "@jupyter-widgets/base",
            "_model_module_version": "1.2.0",
            "_model_name": "LayoutModel",
            "_view_count": null,
            "_view_module": "@jupyter-widgets/base",
            "_view_module_version": "1.2.0",
            "_view_name": "LayoutView",
            "align_content": null,
            "align_items": null,
            "align_self": null,
            "border": null,
            "bottom": null,
            "display": null,
            "flex": null,
            "flex_flow": null,
            "grid_area": null,
            "grid_auto_columns": null,
            "grid_auto_flow": null,
            "grid_auto_rows": null,
            "grid_column": null,
            "grid_gap": null,
            "grid_row": null,
            "grid_template_areas": null,
            "grid_template_columns": null,
            "grid_template_rows": null,
            "height": null,
            "justify_content": null,
            "justify_items": null,
            "left": null,
            "margin": null,
            "max_height": null,
            "max_width": null,
            "min_height": null,
            "min_width": null,
            "object_fit": null,
            "object_position": null,
            "order": null,
            "overflow": null,
            "overflow_x": null,
            "overflow_y": null,
            "padding": null,
            "right": null,
            "top": null,
            "visibility": null,
            "width": null
          }
        },
        "22ecdde593b9472583c057e30084e1d2": {
          "model_module": "@jupyter-widgets/controls",
          "model_module_version": "1.5.0",
          "model_name": "FloatProgressModel",
          "state": {
            "_dom_classes": [],
            "_model_module": "@jupyter-widgets/controls",
            "_model_module_version": "1.5.0",
            "_model_name": "FloatProgressModel",
            "_view_count": null,
            "_view_module": "@jupyter-widgets/controls",
            "_view_module_version": "1.5.0",
            "_view_name": "ProgressView",
            "bar_style": "danger",
            "description": "",
            "description_tooltip": null,
            "layout": "IPY_MODEL_e4b03ea4f71446ebbd136b70be664e6c",
            "max": 51,
            "min": 0,
            "orientation": "horizontal",
            "style": "IPY_MODEL_0802b8c0675b42aa8fb3060202210c06",
            "value": 0
          }
        },
        "533498a03744451caebc052a972edfe7": {
          "model_module": "@jupyter-widgets/controls",
          "model_module_version": "1.5.0",
          "model_name": "HTMLModel",
          "state": {
            "_dom_classes": [],
            "_model_module": "@jupyter-widgets/controls",
            "_model_module_version": "1.5.0",
            "_model_name": "HTMLModel",
            "_view_count": null,
            "_view_module": "@jupyter-widgets/controls",
            "_view_module_version": "1.5.0",
            "_view_name": "HTMLView",
            "description": "",
            "description_tooltip": null,
            "layout": "IPY_MODEL_9793cc2efa7547bb88555f9a7a110ce2",
            "placeholder": "​",
            "style": "IPY_MODEL_f5941b41629a4fa4ae644987aaabe361",
            "value": "  0%"
          }
        },
        "5576fdb9294449fbbf8421cfca6ca90a": {
          "model_module": "@jupyter-widgets/controls",
          "model_module_version": "1.5.0",
          "model_name": "HBoxModel",
          "state": {
            "_dom_classes": [],
            "_model_module": "@jupyter-widgets/controls",
            "_model_module_version": "1.5.0",
            "_model_name": "HBoxModel",
            "_view_count": null,
            "_view_module": "@jupyter-widgets/controls",
            "_view_module_version": "1.5.0",
            "_view_name": "HBoxView",
            "box_style": "",
            "children": [
              "IPY_MODEL_533498a03744451caebc052a972edfe7",
              "IPY_MODEL_22ecdde593b9472583c057e30084e1d2",
              "IPY_MODEL_ad122faa5ddc4a6082c72b663c70ffcf"
            ],
            "layout": "IPY_MODEL_dceb5ede440f47cab37d02411b9f0c0d"
          }
        },
        "9793cc2efa7547bb88555f9a7a110ce2": {
          "model_module": "@jupyter-widgets/base",
          "model_module_version": "1.2.0",
          "model_name": "LayoutModel",
          "state": {
            "_model_module": "@jupyter-widgets/base",
            "_model_module_version": "1.2.0",
            "_model_name": "LayoutModel",
            "_view_count": null,
            "_view_module": "@jupyter-widgets/base",
            "_view_module_version": "1.2.0",
            "_view_name": "LayoutView",
            "align_content": null,
            "align_items": null,
            "align_self": null,
            "border": null,
            "bottom": null,
            "display": null,
            "flex": null,
            "flex_flow": null,
            "grid_area": null,
            "grid_auto_columns": null,
            "grid_auto_flow": null,
            "grid_auto_rows": null,
            "grid_column": null,
            "grid_gap": null,
            "grid_row": null,
            "grid_template_areas": null,
            "grid_template_columns": null,
            "grid_template_rows": null,
            "height": null,
            "justify_content": null,
            "justify_items": null,
            "left": null,
            "margin": null,
            "max_height": null,
            "max_width": null,
            "min_height": null,
            "min_width": null,
            "object_fit": null,
            "object_position": null,
            "order": null,
            "overflow": null,
            "overflow_x": null,
            "overflow_y": null,
            "padding": null,
            "right": null,
            "top": null,
            "visibility": null,
            "width": null
          }
        },
        "ad122faa5ddc4a6082c72b663c70ffcf": {
          "model_module": "@jupyter-widgets/controls",
          "model_module_version": "1.5.0",
          "model_name": "HTMLModel",
          "state": {
            "_dom_classes": [],
            "_model_module": "@jupyter-widgets/controls",
            "_model_module_version": "1.5.0",
            "_model_name": "HTMLModel",
            "_view_count": null,
            "_view_module": "@jupyter-widgets/controls",
            "_view_module_version": "1.5.0",
            "_view_name": "HTMLView",
            "description": "",
            "description_tooltip": null,
            "layout": "IPY_MODEL_2008d62d5f2945f8bb8701d2583fd4b7",
            "placeholder": "​",
            "style": "IPY_MODEL_f901d0f8e5a8430c8bce9829cd810c60",
            "value": " 0/51 [00:01&lt;?, ?it/s]"
          }
        },
        "dceb5ede440f47cab37d02411b9f0c0d": {
          "model_module": "@jupyter-widgets/base",
          "model_module_version": "1.2.0",
          "model_name": "LayoutModel",
          "state": {
            "_model_module": "@jupyter-widgets/base",
            "_model_module_version": "1.2.0",
            "_model_name": "LayoutModel",
            "_view_count": null,
            "_view_module": "@jupyter-widgets/base",
            "_view_module_version": "1.2.0",
            "_view_name": "LayoutView",
            "align_content": null,
            "align_items": null,
            "align_self": null,
            "border": null,
            "bottom": null,
            "display": null,
            "flex": null,
            "flex_flow": null,
            "grid_area": null,
            "grid_auto_columns": null,
            "grid_auto_flow": null,
            "grid_auto_rows": null,
            "grid_column": null,
            "grid_gap": null,
            "grid_row": null,
            "grid_template_areas": null,
            "grid_template_columns": null,
            "grid_template_rows": null,
            "height": null,
            "justify_content": null,
            "justify_items": null,
            "left": null,
            "margin": null,
            "max_height": null,
            "max_width": null,
            "min_height": null,
            "min_width": null,
            "object_fit": null,
            "object_position": null,
            "order": null,
            "overflow": null,
            "overflow_x": null,
            "overflow_y": null,
            "padding": null,
            "right": null,
            "top": null,
            "visibility": null,
            "width": null
          }
        },
        "e4b03ea4f71446ebbd136b70be664e6c": {
          "model_module": "@jupyter-widgets/base",
          "model_module_version": "1.2.0",
          "model_name": "LayoutModel",
          "state": {
            "_model_module": "@jupyter-widgets/base",
            "_model_module_version": "1.2.0",
            "_model_name": "LayoutModel",
            "_view_count": null,
            "_view_module": "@jupyter-widgets/base",
            "_view_module_version": "1.2.0",
            "_view_name": "LayoutView",
            "align_content": null,
            "align_items": null,
            "align_self": null,
            "border": null,
            "bottom": null,
            "display": null,
            "flex": null,
            "flex_flow": null,
            "grid_area": null,
            "grid_auto_columns": null,
            "grid_auto_flow": null,
            "grid_auto_rows": null,
            "grid_column": null,
            "grid_gap": null,
            "grid_row": null,
            "grid_template_areas": null,
            "grid_template_columns": null,
            "grid_template_rows": null,
            "height": null,
            "justify_content": null,
            "justify_items": null,
            "left": null,
            "margin": null,
            "max_height": null,
            "max_width": null,
            "min_height": null,
            "min_width": null,
            "object_fit": null,
            "object_position": null,
            "order": null,
            "overflow": null,
            "overflow_x": null,
            "overflow_y": null,
            "padding": null,
            "right": null,
            "top": null,
            "visibility": null,
            "width": null
          }
        },
        "f5941b41629a4fa4ae644987aaabe361": {
          "model_module": "@jupyter-widgets/controls",
          "model_module_version": "1.5.0",
          "model_name": "DescriptionStyleModel",
          "state": {
            "_model_module": "@jupyter-widgets/controls",
            "_model_module_version": "1.5.0",
            "_model_name": "DescriptionStyleModel",
            "_view_count": null,
            "_view_module": "@jupyter-widgets/base",
            "_view_module_version": "1.2.0",
            "_view_name": "StyleView",
            "description_width": ""
          }
        },
        "f901d0f8e5a8430c8bce9829cd810c60": {
          "model_module": "@jupyter-widgets/controls",
          "model_module_version": "1.5.0",
          "model_name": "DescriptionStyleModel",
          "state": {
            "_model_module": "@jupyter-widgets/controls",
            "_model_module_version": "1.5.0",
            "_model_name": "DescriptionStyleModel",
            "_view_count": null,
            "_view_module": "@jupyter-widgets/base",
            "_view_module_version": "1.2.0",
            "_view_name": "StyleView",
            "description_width": ""
          }
        }
      }
    }
  },
  "nbformat": 4,
  "nbformat_minor": 0
}
